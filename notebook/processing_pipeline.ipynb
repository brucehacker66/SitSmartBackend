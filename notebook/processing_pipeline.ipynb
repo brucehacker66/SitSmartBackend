{
 "cells": [
  {
   "cell_type": "code",
   "execution_count": 1,
   "metadata": {},
   "outputs": [],
   "source": [
    "import numpy as np\n",
    "import cv2\n",
    "import os\n",
    "from tqdm import tqdm"
   ]
  },
  {
   "cell_type": "code",
   "execution_count": 2,
   "metadata": {},
   "outputs": [],
   "source": [
    "video_path = ['Normal posture', 'Lean Forward', 'Backwards']\n",
    "output_dir = ['Normal posture/frames', 'Lean Forward/frames', 'Backwards/frames']"
   ]
  },
  {
   "cell_type": "code",
   "execution_count": 3,
   "metadata": {},
   "outputs": [],
   "source": [
    "for i in range(len(output_dir)):\n",
    "    os.makedirs(output_dir[i], exist_ok=True)\n"
   ]
  },
  {
   "cell_type": "code",
   "execution_count": 17,
   "metadata": {},
   "outputs": [
    {
     "data": {
      "text/plain": [
       "'Backwards/frames/frame_06205.jpg'"
      ]
     },
     "execution_count": 17,
     "metadata": {},
     "output_type": "execute_result"
    }
   ],
   "source": [
    "frame_filename"
   ]
  },
  {
   "cell_type": "code",
   "execution_count": 3,
   "metadata": {},
   "outputs": [
    {
     "name": "stderr",
     "output_type": "stream",
     "text": [
      "\r",
      "  0%|          | 0/3 [00:00<?, ?it/s]"
     ]
    },
    {
     "name": "stdout",
     "output_type": "stream",
     "text": [
      "Normal posture\n",
      "0\n",
      "Normal posture\n",
      "1357\n",
      "Normal posture\n",
      "3596\n",
      "Normal posture\n",
      "5459\n"
     ]
    },
    {
     "name": "stderr",
     "output_type": "stream",
     "text": [
      "\r",
      " 33%|███▎      | 1/3 [02:16<04:32, 136.30s/it]"
     ]
    },
    {
     "name": "stdout",
     "output_type": "stream",
     "text": [
      "Lean Forward\n",
      "0\n",
      "Lean Forward\n",
      "1269\n",
      "Lean Forward\n",
      "3029\n",
      "Lean Forward\n",
      "5007\n"
     ]
    },
    {
     "name": "stderr",
     "output_type": "stream",
     "text": [
      "\r",
      " 67%|██████▋   | 2/3 [04:00<01:57, 117.40s/it]"
     ]
    },
    {
     "name": "stdout",
     "output_type": "stream",
     "text": [
      "Backwards\n",
      "0\n",
      "Backwards\n",
      "1265\n",
      "Backwards\n",
      "2502\n",
      "Backwards\n",
      "4335\n"
     ]
    },
    {
     "name": "stderr",
     "output_type": "stream",
     "text": [
      "100%|██████████| 3/3 [05:58<00:00, 119.46s/it]\n"
     ]
    }
   ],
   "source": [
    "for i in tqdm(np.arange(len(video_path))):\n",
    "    frame_number = 0\n",
    "    for filename in os.listdir(video_path[i]):\n",
    "        if filename.endswith(\".mov\") or filename.endswith(\".mp4\"):\n",
    "            print(video_path[i])\n",
    "            print(frame_number)\n",
    "            cap = cv2.VideoCapture(os.path.join(video_path[i], filename))\n",
    "            while True:\n",
    "                # Read the next frame from the video\n",
    "                ret, frame = cap.read()\n",
    "\n",
    "                # Break the loop if no frame is captured (end of video)\n",
    "                if not ret:\n",
    "                    break\n",
    "                    \n",
    "                frame_filename = os.path.join(output_dir[i], f\"frame_{frame_number:05d}.jpg\")\n",
    "                cv2.imwrite(frame_filename, frame)\n",
    "                frame_number += 1\n",
    "            cap.release()\n",
    "\n",
    "\n"
   ]
  },
  {
   "cell_type": "code",
   "execution_count": 11,
   "metadata": {},
   "outputs": [
    {
     "data": {
      "text/plain": [
       "'Back_Chris.mov'"
      ]
     },
     "execution_count": 11,
     "metadata": {},
     "output_type": "execute_result"
    }
   ],
   "source": [
    "os.listdir(video_path[i])[4]"
   ]
  },
  {
   "cell_type": "code",
   "execution_count": 5,
   "metadata": {},
   "outputs": [
    {
     "data": {
      "text/plain": [
       "['forward-Michelle.mov',\n",
       " 'frames',\n",
       " 'Forward_Ryad.mov',\n",
       " 'Forward_Chris.mov',\n",
       " 'forward_bruce.mp4']"
      ]
     },
     "execution_count": 5,
     "metadata": {},
     "output_type": "execute_result"
    }
   ],
   "source": [
    "os.listdir(video_path[1])"
   ]
  },
  {
   "cell_type": "code",
   "execution_count": null,
   "metadata": {},
   "outputs": [],
   "source": []
  }
 ],
 "metadata": {
  "kernelspec": {
   "display_name": "Python 3",
   "language": "python",
   "name": "python3"
  },
  "language_info": {
   "codemirror_mode": {
    "name": "ipython",
    "version": 3
   },
   "file_extension": ".py",
   "mimetype": "text/x-python",
   "name": "python",
   "nbconvert_exporter": "python",
   "pygments_lexer": "ipython3",
   "version": "3.8.5"
  }
 },
 "nbformat": 4,
 "nbformat_minor": 4
}
