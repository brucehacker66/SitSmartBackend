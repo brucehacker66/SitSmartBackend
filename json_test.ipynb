{
 "cells": [
  {
   "cell_type": "code",
   "id": "initial_id",
   "metadata": {
    "collapsed": true,
    "ExecuteTime": {
     "end_time": "2024-12-16T20:20:14.523923Z",
     "start_time": "2024-12-16T20:20:14.232585Z"
    }
   },
   "source": [
    "import json\n",
    "\n",
    "def get_shape(data):\n",
    "    \"\"\"\n",
    "    Recursively computes the shape of a nested list.\n",
    "    Args:\n",
    "        data (list): The nested list or array.\n",
    "    Returns:\n",
    "        tuple: A tuple representing the shape of the nested list.\n",
    "    \"\"\"\n",
    "    if isinstance(data, list):\n",
    "        if len(data) == 0:\n",
    "            return (0,)\n",
    "        return (len(data),) + get_shape(data[0])\n",
    "    else:\n",
    "        return ()\n",
    "\n",
    "def main(json_file_path):\n",
    "    \"\"\"\n",
    "    Loads a JSON file and determines the shape of lists within it.\n",
    "    Args:\n",
    "        json_file_path (str): Path to the JSON file.\n",
    "    \"\"\"\n",
    "    # Load the JSON file\n",
    "    with open(json_file_path, 'r') as f:\n",
    "        data = json.load(f)\n",
    "\n",
    "    # Assuming the JSON contains a list at the root\n",
    "    if isinstance(data, list):\n",
    "        shape = get_shape(data)\n",
    "        print(f\"Shape of the list: {shape}\")\n",
    "    else:\n",
    "        print(\"The root of the JSON file is not a list.\")\n",
    "\n",
    "# Example usage\n",
    "json_file_path = 'keypoints/normal_keypoints/keypoints_img_coord.json'  # Replace with your JSON file path\n",
    "main(json_file_path)\n"
   ],
   "outputs": [
    {
     "name": "stdout",
     "output_type": "stream",
     "text": [
      "Shape of the list: (7426, 33, 3)\n"
     ]
    }
   ],
   "execution_count": 1
  },
  {
   "metadata": {
    "ExecuteTime": {
     "end_time": "2024-12-16T20:34:30.160443Z",
     "start_time": "2024-12-16T20:34:28.621155Z"
    }
   },
   "cell_type": "code",
   "source": [
    "import numpy as np\n",
    "\n",
    "def get_shape_from_npy(file_path):\n",
    "    \"\"\"\n",
    "    Loads a .npy file and determines the shape of the array inside it.\n",
    "\n",
    "    Args:\n",
    "        file_path (str): Path to the .npy file.\n",
    "\n",
    "    Returns:\n",
    "        tuple: Shape of the array stored in the .npy file.\n",
    "    \"\"\"\n",
    "    try:\n",
    "        # Load the .npy file\n",
    "        data = np.load(file_path, allow_pickle=True)\n",
    "\n",
    "        # If the data is a NumPy array, return its shape\n",
    "        if isinstance(data, np.ndarray):\n",
    "            return data.shape\n",
    "        else:\n",
    "            # Handle the case where the .npy file contains a list or other object\n",
    "            return \"Not a NumPy array, cannot determine shape directly.\"\n",
    "    except Exception as e:\n",
    "        return f\"Error loading file: {e}\"\n",
    "\n",
    "# Example usage\n",
    "file_path = 'keypoints/backward_keypoints/keypoints_img_coord.npy'  # Replace with your .npy file path\n",
    "shape = get_shape_from_npy(file_path)\n",
    "print(f\"Shape of the data: {shape}\")\n"
   ],
   "id": "e2392440acbc5dcd",
   "outputs": [
    {
     "name": "stdout",
     "output_type": "stream",
     "text": [
      "Shape of the data: (6207, 33, 3)\n"
     ]
    }
   ],
   "execution_count": 4
  },
  {
   "metadata": {},
   "cell_type": "code",
   "outputs": [],
   "execution_count": null,
   "source": "",
   "id": "f80b41c798ed0714"
  }
 ],
 "metadata": {
  "kernelspec": {
   "display_name": "Python 3",
   "language": "python",
   "name": "python3"
  },
  "language_info": {
   "codemirror_mode": {
    "name": "ipython",
    "version": 2
   },
   "file_extension": ".py",
   "mimetype": "text/x-python",
   "name": "python",
   "nbconvert_exporter": "python",
   "pygments_lexer": "ipython2",
   "version": "2.7.6"
  }
 },
 "nbformat": 4,
 "nbformat_minor": 5
}
